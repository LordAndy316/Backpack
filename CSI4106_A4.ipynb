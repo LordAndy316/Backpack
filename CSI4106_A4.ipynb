{
 "cells": [
  {
   "cell_type": "markdown",
   "metadata": {
    "id": "Pbcc9QS1tnBN"
   },
   "source": [
    "**ASSIGNMENT 4**"
   ]
  },
  {
   "cell_type": "markdown",
   "metadata": {
    "id": "f2Eeke4Z_EkW"
   },
   "source": [
    "1. Group Name: \\\\THE 29TH group\n",
    "   Member Names: \\\\ANDREW HENDERSON Syed Zohaib Ahmed\n",
    "   Member Student Numbers: \\\\300190291, 300136941\n",
    "   Report Title: \\\\ASSIGNMENT 4 "
   ]
  },
  {
   "cell_type": "markdown",
   "metadata": {
    "id": "RMUnCICdyBbs"
   },
   "source": [
    "**Derived Datasets**"
   ]
  },
  {
   "cell_type": "markdown",
   "metadata": {
    "id": "-so3pwbPKTDX"
   },
   "source": [
    "These are the imports used for this assignment."
   ]
  },
  {
   "cell_type": "code",
   "execution_count": 118,
   "metadata": {
    "id": "aCWgl6PLKTDY"
   },
   "outputs": [],
   "source": [
    "import spacy\n",
    "import pandas as pd\n",
    "import numpy as np\n",
    "from sklearn.neural_network import MLPClassifier\n",
    "from sklearn.datasets import make_classification\n",
    "from sklearn.model_selection import train_test_split\n",
    "from sklearn.linear_model import LogisticRegression\n",
    "from sklearn.preprocessing import LabelEncoder, StandardScaler\n",
    "from sklearn.feature_extraction.text import TfidfVectorizer\n",
    "from sklearn.metrics import accuracy_score, classification_report\n",
    "from sklearn.model_selection import KFold\n",
    "from sklearn.model_selection import cross_val_score\n",
    "from numpy import mean\n",
    "from numpy import std\n",
    "import matplotlib.pylab as plt\n",
    "import matplotlib.pyplot as plt"
   ]
  },
  {
   "cell_type": "markdown",
   "metadata": {
    "id": "CSyg0jjC1jJa"
   },
   "source": [
    "This is the URL for the dataset chosen. "
   ]
  },
  {
   "cell_type": "code",
   "execution_count": 78,
   "metadata": {
    "id": "1Xx4qMCLKTDb"
   },
   "outputs": [],
   "source": [
    "url = 'https://raw.githubusercontent.com/syedahmed1674/A4Csi4106/main/reduced_file_cnnnews.csv'"
   ]
  },
  {
   "cell_type": "code",
   "execution_count": 79,
   "metadata": {
    "id": "wg24OUV81Xgm"
   },
   "outputs": [
    {
     "name": "stdout",
     "output_type": "stream",
     "text": [
      "https://raw.githubusercontent.com/syedahmed1674/A4Csi4106/main/reduced_file_cnnnews.csv\n"
     ]
    }
   ],
   "source": [
    "print(url)\n",
    "data = pd.read_csv(url)"
   ]
  },
  {
   "cell_type": "markdown",
   "metadata": {},
   "source": [
    "To test to see if we retrieved the data we can print the first few elements with .head()"
   ]
  },
  {
   "cell_type": "code",
   "execution_count": 80,
   "metadata": {
    "id": "AQ5nSY1HKTDd"
   },
   "outputs": [
    {
     "data": {
      "text/html": [
       "<div>\n",
       "<style scoped>\n",
       "    .dataframe tbody tr th:only-of-type {\n",
       "        vertical-align: middle;\n",
       "    }\n",
       "\n",
       "    .dataframe tbody tr th {\n",
       "        vertical-align: top;\n",
       "    }\n",
       "\n",
       "    .dataframe thead th {\n",
       "        text-align: right;\n",
       "    }\n",
       "</style>\n",
       "<table border=\"1\" class=\"dataframe\">\n",
       "  <thead>\n",
       "    <tr style=\"text-align: right;\">\n",
       "      <th></th>\n",
       "      <th>ID</th>\n",
       "      <th>Title</th>\n",
       "      <th>Description</th>\n",
       "      <th>Body</th>\n",
       "      <th>Keywords</th>\n",
       "      <th>Theme</th>\n",
       "      <th>Link</th>\n",
       "    </tr>\n",
       "  </thead>\n",
       "  <tbody>\n",
       "    <tr>\n",
       "      <th>0</th>\n",
       "      <td>1</td>\n",
       "      <td>Candy factory didn't evacuate concerned worker...</td>\n",
       "      <td>An eastern Pennsylvania candy factory didn’t e...</td>\n",
       "      <td>An eastern Pennsylvania candy factory didn’t e...</td>\n",
       "      <td>accident investigations, accidents, accidents,...</td>\n",
       "      <td>us</td>\n",
       "      <td>https://edition.cnn.com/2023/10/06/us/pennsylv...</td>\n",
       "    </tr>\n",
       "    <tr>\n",
       "      <th>1</th>\n",
       "      <td>2</td>\n",
       "      <td>Baltimore police ask for public's help identif...</td>\n",
       "      <td>Two shooters were involved in an attack at Mor...</td>\n",
       "      <td>Two shooters were involved in an attack at Mor...</td>\n",
       "      <td>baltimore, brand safety-nsf crime, brand safet...</td>\n",
       "      <td>us</td>\n",
       "      <td>https://edition.cnn.com/2023/10/06/us/morgan-s...</td>\n",
       "    </tr>\n",
       "    <tr>\n",
       "      <th>2</th>\n",
       "      <td>3</td>\n",
       "      <td>An arrest warrant has been issued for a suspec...</td>\n",
       "      <td>Authorities in Pennsylvania say they have issu...</td>\n",
       "      <td>Authorities in Pennsylvania say they have issu...</td>\n",
       "      <td>arrest warrants, arrests, brand safety-nsf cri...</td>\n",
       "      <td>us</td>\n",
       "      <td>https://edition.cnn.com/2023/10/06/us/josh-kru...</td>\n",
       "    </tr>\n",
       "    <tr>\n",
       "      <th>3</th>\n",
       "      <td>4</td>\n",
       "      <td>115 improperly stored human remains found in C...</td>\n",
       "      <td>An investigation into more than 115 bodies fou...</td>\n",
       "      <td>An investigation into more than 115 bodies fou...</td>\n",
       "      <td>brand safety-nsf death, brand safety-nsf sensi...</td>\n",
       "      <td>us</td>\n",
       "      <td>https://edition.cnn.com/2023/10/06/us/colorado...</td>\n",
       "    </tr>\n",
       "    <tr>\n",
       "      <th>4</th>\n",
       "      <td>5</td>\n",
       "      <td>Bronx day care provider and 2 others indicted ...</td>\n",
       "      <td>A Bronx day care provider, her husband and his...</td>\n",
       "      <td>A Bronx day care provider, her husband and his...</td>\n",
       "      <td>brand safety-nsf crime, brand safety-nsf death...</td>\n",
       "      <td>us</td>\n",
       "      <td>https://edition.cnn.com/2023/10/05/us/bronx-da...</td>\n",
       "    </tr>\n",
       "  </tbody>\n",
       "</table>\n",
       "</div>"
      ],
      "text/plain": [
       "   ID                                              Title  \\\n",
       "0   1  Candy factory didn't evacuate concerned worker...   \n",
       "1   2  Baltimore police ask for public's help identif...   \n",
       "2   3  An arrest warrant has been issued for a suspec...   \n",
       "3   4  115 improperly stored human remains found in C...   \n",
       "4   5  Bronx day care provider and 2 others indicted ...   \n",
       "\n",
       "                                         Description  \\\n",
       "0  An eastern Pennsylvania candy factory didn’t e...   \n",
       "1  Two shooters were involved in an attack at Mor...   \n",
       "2  Authorities in Pennsylvania say they have issu...   \n",
       "3  An investigation into more than 115 bodies fou...   \n",
       "4  A Bronx day care provider, her husband and his...   \n",
       "\n",
       "                                                Body  \\\n",
       "0  An eastern Pennsylvania candy factory didn’t e...   \n",
       "1  Two shooters were involved in an attack at Mor...   \n",
       "2  Authorities in Pennsylvania say they have issu...   \n",
       "3  An investigation into more than 115 bodies fou...   \n",
       "4  A Bronx day care provider, her husband and his...   \n",
       "\n",
       "                                            Keywords Theme  \\\n",
       "0  accident investigations, accidents, accidents,...    us   \n",
       "1  baltimore, brand safety-nsf crime, brand safet...    us   \n",
       "2  arrest warrants, arrests, brand safety-nsf cri...    us   \n",
       "3  brand safety-nsf death, brand safety-nsf sensi...    us   \n",
       "4  brand safety-nsf crime, brand safety-nsf death...    us   \n",
       "\n",
       "                                                Link  \n",
       "0  https://edition.cnn.com/2023/10/06/us/pennsylv...  \n",
       "1  https://edition.cnn.com/2023/10/06/us/morgan-s...  \n",
       "2  https://edition.cnn.com/2023/10/06/us/josh-kru...  \n",
       "3  https://edition.cnn.com/2023/10/06/us/colorado...  \n",
       "4  https://edition.cnn.com/2023/10/05/us/bronx-da...  "
      ]
     },
     "execution_count": 80,
     "metadata": {},
     "output_type": "execute_result"
    }
   ],
   "source": [
    "data.head()"
   ]
  },
  {
   "cell_type": "markdown",
   "metadata": {
    "id": "Y3pycllPKTDd"
   },
   "source": [
    "This is where we create the NLP pipeline. load() will download the correct model (English)."
   ]
  },
  {
   "cell_type": "code",
   "execution_count": 81,
   "metadata": {
    "id": "wQtSi8XuKTDe"
   },
   "outputs": [],
   "source": [
    "nlp = spacy.load(\"en_core_web_sm\")"
   ]
  },
  {
   "cell_type": "markdown",
   "metadata": {
    "id": "ccqFArDyKTDf"
   },
   "source": [
    "Applying the pipeline to every sentences creates a Document where every word is a Token object.\n",
    "\n",
    "Doc: https://spacy.io/api/doc\n",
    "\n",
    "Token: https://spacy.io/api/token"
   ]
  },
  {
   "cell_type": "code",
   "execution_count": 82,
   "metadata": {
    "id": "WcaeMUL2KTDg"
   },
   "outputs": [],
   "source": [
    "#Apply nlp pipeline to the column that has your sentences.\n",
    "data['tokenized'] = data['Body'].apply(nlp)"
   ]
  },
  {
   "cell_type": "markdown",
   "metadata": {
    "id": "jHRfZ2uEKTDh"
   },
   "source": [
    "A Token object has many attributes such as part-of-speech (pos_), lemma (lemma_), etc. "
   ]
  },
  {
   "cell_type": "code",
   "execution_count": 84,
   "metadata": {
    "id": "qw0a_2ySyUo2"
   },
   "outputs": [],
   "source": [
    "#create empty dataframes that will store the derived datasets\n",
    "\n",
    "derived_dataset1 = pd.DataFrame(columns = ['Class', 'pos'])\n",
    "derived_dataset2 = pd.DataFrame(columns = ['Class', 'pos-np'])"
   ]
  },
  {
   "cell_type": "markdown",
   "metadata": {},
   "source": [
    "The function 'get_pos' is designed to extract specific parts of speech (POS) from a given sentence, focusing on the desired POS tags specified by 'wanted_pos.' This is done to isolate and collect words that fall under the chosen POS categories, which can be valuable for various natural language processing (NLP) tasks. By extracting and joining these words as a string, the function prepares the text data for further analysis using techniques like CountVectorizer. For example, when conducting sentiment analysis or text classification, selecting and grouping specific POS tags like verbs can help in capturing the essential semantic information within the text, which is crucial for accurate and effective NLP modeling."
   ]
  },
  {
   "cell_type": "code",
   "execution_count": 85,
   "metadata": {
    "id": "Yeak1tAOKTDi"
   },
   "outputs": [],
   "source": [
    "def get_pos(sentence, wanted_pos): #wanted_pos refers to the desired pos tagging\n",
    "    verbs = []\n",
    "    for token in sentence:\n",
    "        if token.pos_ in wanted_pos:\n",
    "            verbs.append(token.lemma_) # lemma returns a number. lemma_ return a string\n",
    "    return ' '.join(verbs) # return value is as a string and not a list for countVectorizer"
   ]
  },
  {
   "cell_type": "code",
   "execution_count": 86,
   "metadata": {
    "id": "147NRzwKKTDj"
   },
   "outputs": [],
   "source": [
    "#We use the above function to fetch all the verbs. We store this information in our first derived dataset\n",
    "derived_dataset1['pos'] = data['tokenized'].apply(lambda sent : get_pos(sent, ['VERB']))"
   ]
  },
  {
   "cell_type": "markdown",
   "metadata": {},
   "source": [
    "We can verify the first few contents of derived_dataset1 by using .head() "
   ]
  },
  {
   "cell_type": "code",
   "execution_count": 87,
   "metadata": {
    "id": "G_bUg_fVKTDk"
   },
   "outputs": [
    {
     "data": {
      "text/html": [
       "<div>\n",
       "<style scoped>\n",
       "    .dataframe tbody tr th:only-of-type {\n",
       "        vertical-align: middle;\n",
       "    }\n",
       "\n",
       "    .dataframe tbody tr th {\n",
       "        vertical-align: top;\n",
       "    }\n",
       "\n",
       "    .dataframe thead th {\n",
       "        text-align: right;\n",
       "    }\n",
       "</style>\n",
       "<table border=\"1\" class=\"dataframe\">\n",
       "  <thead>\n",
       "    <tr style=\"text-align: right;\">\n",
       "      <th></th>\n",
       "      <th>Class</th>\n",
       "      <th>pos</th>\n",
       "    </tr>\n",
       "  </thead>\n",
       "  <tbody>\n",
       "    <tr>\n",
       "      <th>0</th>\n",
       "      <td>NaN</td>\n",
       "      <td>evacuate say smell leave injure announce base ...</td>\n",
       "    </tr>\n",
       "    <tr>\n",
       "      <th>1</th>\n",
       "      <td>NaN</td>\n",
       "      <td>involve injure confirm ask identify see walk c...</td>\n",
       "    </tr>\n",
       "    <tr>\n",
       "      <th>2</th>\n",
       "      <td>NaN</td>\n",
       "      <td>say issue suspect kill advocate identify consi...</td>\n",
       "    </tr>\n",
       "    <tr>\n",
       "      <th>3</th>\n",
       "      <td>NaN</td>\n",
       "      <td>find store offer take say find go say have nee...</td>\n",
       "    </tr>\n",
       "    <tr>\n",
       "      <th>4</th>\n",
       "      <td>NaN</td>\n",
       "      <td>indict expose include die say indict accord sa...</td>\n",
       "    </tr>\n",
       "  </tbody>\n",
       "</table>\n",
       "</div>"
      ],
      "text/plain": [
       "  Class                                                pos\n",
       "0   NaN  evacuate say smell leave injure announce base ...\n",
       "1   NaN  involve injure confirm ask identify see walk c...\n",
       "2   NaN  say issue suspect kill advocate identify consi...\n",
       "3   NaN  find store offer take say find go say have nee...\n",
       "4   NaN  indict expose include die say indict accord sa..."
      ]
     },
     "execution_count": 87,
     "metadata": {},
     "output_type": "execute_result"
    }
   ],
   "source": [
    "derived_dataset1.head()"
   ]
  },
  {
   "cell_type": "markdown",
   "metadata": {
    "id": "AuGv-NnfKTDj"
   },
   "source": [
    "The code is performing named entity extraction and selected parts-of-speech tagging to preprocess and structure textual data. This preprocessing is essential in natural language processing (NLP) tasks, where understanding the context and content of text is critical. Extracting named entities helps identify and categorize specific entities within the text, providing valuable information for tasks like information retrieval and entity recognition. Similarly, isolating certain parts of speech like nouns, verbs, and adjectives allows for a more focused analysis, aiding in sentiment analysis, summarization, and other NLP applications that rely on the semantic and syntactic characteristics of the text."
   ]
  },
  {
   "cell_type": "code",
   "execution_count": 89,
   "metadata": {
    "id": "NR7AdW0MfXO6"
   },
   "outputs": [],
   "source": [
    "def extract_entities_and_pos(text):\n",
    "\n",
    "    doc = nlp(text)\n",
    "\n",
    "\n",
    "    named_entities = []\n",
    "    selected_pos_tags = []\n",
    "\n",
    "\n",
    "    for token in doc:\n",
    "        # Check if the token is a named entity\n",
    "        if token.ent_type:\n",
    "            named_entities.append((token.text, token.ent_type))\n",
    "\n",
    "\n",
    "        if token.pos_ in ['NOUN', 'VERB', 'ADJ']:\n",
    "            selected_pos_tags.append((token.text, token.pos))\n",
    "\n",
    "    return named_entities, selected_pos_tags"
   ]
  },
  {
   "cell_type": "markdown",
   "metadata": {},
   "source": [
    "We can verify the elements of derived_dataset2 through .head()"
   ]
  },
  {
   "cell_type": "code",
   "execution_count": 90,
   "metadata": {},
   "outputs": [
    {
     "data": {
      "text/html": [
       "<div>\n",
       "<style scoped>\n",
       "    .dataframe tbody tr th:only-of-type {\n",
       "        vertical-align: middle;\n",
       "    }\n",
       "\n",
       "    .dataframe tbody tr th {\n",
       "        vertical-align: top;\n",
       "    }\n",
       "\n",
       "    .dataframe thead th {\n",
       "        text-align: right;\n",
       "    }\n",
       "</style>\n",
       "<table border=\"1\" class=\"dataframe\">\n",
       "  <thead>\n",
       "    <tr style=\"text-align: right;\">\n",
       "      <th></th>\n",
       "      <th>Class</th>\n",
       "      <th>pos-np</th>\n",
       "      <th>named_entities</th>\n",
       "      <th>selected_pos_tags</th>\n",
       "    </tr>\n",
       "  </thead>\n",
       "  <tbody>\n",
       "    <tr>\n",
       "      <th>0</th>\n",
       "      <td>NaN</td>\n",
       "      <td>NaN</td>\n",
       "      <td>[(Pennsylvania, 384), (March, 391), (seven, 39...</td>\n",
       "      <td>[(eastern, 84), (candy, 92), (factory, 92), (e...</td>\n",
       "    </tr>\n",
       "    <tr>\n",
       "      <th>1</th>\n",
       "      <td>NaN</td>\n",
       "      <td>NaN</td>\n",
       "      <td>[(Two, 397), (Morgan, 383), (State, 383), (Uni...</td>\n",
       "      <td>[(shooters, 92), (involved, 100), (attack, 92)...</td>\n",
       "    </tr>\n",
       "    <tr>\n",
       "      <th>2</th>\n",
       "      <td>NaN</td>\n",
       "      <td>NaN</td>\n",
       "      <td>[(Pennsylvania, 384), (Josh, 380), (Kruger, 38...</td>\n",
       "      <td>[(Authorities, 92), (say, 100), (issued, 100),...</td>\n",
       "    </tr>\n",
       "    <tr>\n",
       "      <th>3</th>\n",
       "      <td>NaN</td>\n",
       "      <td>NaN</td>\n",
       "      <td>[(more, 397), (than, 397), (115, 397), (Colora...</td>\n",
       "      <td>[(investigation, 92), (more, 84), (bodies, 92)...</td>\n",
       "    </tr>\n",
       "    <tr>\n",
       "      <th>4</th>\n",
       "      <td>NaN</td>\n",
       "      <td>NaN</td>\n",
       "      <td>[(Bronx, 384), (four, 397), (1, 391), (-, 391)...</td>\n",
       "      <td>[(day, 92), (care, 92), (provider, 92), (husba...</td>\n",
       "    </tr>\n",
       "  </tbody>\n",
       "</table>\n",
       "</div>"
      ],
      "text/plain": [
       "  Class pos-np                                     named_entities  \\\n",
       "0   NaN    NaN  [(Pennsylvania, 384), (March, 391), (seven, 39...   \n",
       "1   NaN    NaN  [(Two, 397), (Morgan, 383), (State, 383), (Uni...   \n",
       "2   NaN    NaN  [(Pennsylvania, 384), (Josh, 380), (Kruger, 38...   \n",
       "3   NaN    NaN  [(more, 397), (than, 397), (115, 397), (Colora...   \n",
       "4   NaN    NaN  [(Bronx, 384), (four, 397), (1, 391), (-, 391)...   \n",
       "\n",
       "                                   selected_pos_tags  \n",
       "0  [(eastern, 84), (candy, 92), (factory, 92), (e...  \n",
       "1  [(shooters, 92), (involved, 100), (attack, 92)...  \n",
       "2  [(Authorities, 92), (say, 100), (issued, 100),...  \n",
       "3  [(investigation, 92), (more, 84), (bodies, 92)...  \n",
       "4  [(day, 92), (care, 92), (provider, 92), (husba...  "
      ]
     },
     "execution_count": 90,
     "metadata": {},
     "output_type": "execute_result"
    }
   ],
   "source": [
    "derived_dataset2['named_entities'], derived_dataset2['selected_pos_tags'] = zip(*data['tokenized'].apply(extract_entities_and_pos))\n",
    "derived_dataset2.head()"
   ]
  },
  {
   "cell_type": "markdown",
   "metadata": {
    "id": "1GhniwHtzfQt"
   },
   "source": [
    "**Perform Classification Task**"
   ]
  },
  {
   "cell_type": "markdown",
   "metadata": {},
   "source": [
    "This function, 'runtest,' assesses a machine learning model's performance. It fits the 'model' to the training data, uses it to predict labels for the test data, calculates accuracy, generates a comprehensive classification report with precision, recall, and F1-score metrics for each class, and ultimately returns the accuracy and classification report as evaluation results."
   ]
  },
  {
   "cell_type": "code",
   "execution_count": 91,
   "metadata": {},
   "outputs": [],
   "source": [
    "def runtest(model, X_train, X_test, y_train, y_test):\n",
    "    # Fit the 'model' to the training data.\n",
    "    model.fit(X_train, y_train)\n",
    "    \n",
    "    # Use the trained model to make predictions on the test data.\n",
    "    y_pred = model.predict(X_test)\n",
    "    \n",
    "    # Calculate the accuracy of the model by comparing predicted labels ('y_pred') to true labels ('y_test').\n",
    "    accuracy = accuracy_score(y_test, y_pred)\n",
    "    \n",
    "    # Generate a classification report that includes metrics such as precision, recall, and F1-score for each class.\n",
    "    report = classification_report(y_test, y_pred)\n",
    "    \n",
    "    # Return the accuracy and classification report as results of the model evaluation.\n",
    "    return accuracy, report"
   ]
  },
  {
   "cell_type": "markdown",
   "metadata": {},
   "source": [
    "**MODEL 1: MLP Model on DATASET 1 with no parameters**\n"
   ]
  },
  {
   "cell_type": "code",
   "execution_count": 131,
   "metadata": {},
   "outputs": [],
   "source": [
    "# Assigning the 'data' dataset to the variable 'dataset' for convenience.\n",
    "dataset = data\n",
    "\n",
    "# Splitting the dataset into training and testing sets, with 80% for training and 20% for testing.\n",
    "# We're using the columns 'Title', 'Description', 'Body', 'Keywords', and 'Link' as features ('X') \n",
    "# and the 'Theme' column as the target ('y').\n",
    "X_train, X_test, y_train, y_test = train_test_split(dataset[['Title', 'Description', 'Body', 'Keywords', 'Link']], dataset['Theme'], test_size=0.2, random_state=42)\n",
    "\n",
    "# Creating a TF-IDF vectorizer with a maximum of 1000 features.\n",
    "tfidf_vectorizer = TfidfVectorizer(max_features=1000)\n",
    "\n",
    "# Transforming the 'Body' text data in the training set into TF-IDF vectors.\n",
    "X_train_tfidf = tfidf_vectorizer.fit_transform(X_train['Body'])\n",
    "\n",
    "# Transforming the 'Body' text data in the testing set into TF-IDF vectors using the same vectorizer.\n",
    "X_test_tfidf = tfidf_vectorizer.transform(X_test['Body'])\n"
   ]
  },
  {
   "cell_type": "markdown",
   "metadata": {},
   "source": [
    "The provided code is performing a machine learning experiment to assess the performance of a Multi-Layer Perceptron (MLP) classifier on a text classification task. It uses the 'runtest' function to train the MLP model on the TF-IDF transformed training data ('X_train_tfidf') and evaluates its performance on the TF-IDF transformed testing data ('X_test_tfidf') using the ground truth labels 'y_train' and 'y_test.' The accuracy score of 0.79 is a measure of how accurately the model predicted the class labels of the test data. An accuracy of 0.79 indicates that the model correctly predicted approximately 79% of the test data's labels. This accuracy is a significant metric as it quantifies the model's overall performance; higher accuracy values indicate better classification results, while lower values suggest room for improvement. Therefore, an accuracy of 0.79 suggests that the MLP classifier performed reasonably well on the given text classification task."
   ]
  },
  {
   "cell_type": "code",
   "execution_count": 93,
   "metadata": {},
   "outputs": [
    {
     "name": "stdout",
     "output_type": "stream",
     "text": [
      "               precision    recall  f1-score   support\n",
      "\n",
      "     business       0.88      0.86      0.87        43\n",
      "entertainment       0.62      0.62      0.62        21\n",
      "       health       0.86      0.94      0.90        33\n",
      "     opinions       0.78      0.64      0.71        28\n",
      "     politics       0.85      0.81      0.83        27\n",
      "        sport       0.79      0.92      0.85        25\n",
      "        style       0.00      0.00      0.00         6\n",
      "       travel       0.00      0.00      0.00         1\n",
      "           us       0.67      0.53      0.59        19\n",
      "      weather       0.95      1.00      0.98        20\n",
      "        world       0.71      0.83      0.77        60\n",
      "\n",
      "     accuracy                           0.79       283\n",
      "    macro avg       0.65      0.65      0.65       283\n",
      " weighted avg       0.77      0.79      0.78       283\n",
      "\n"
     ]
    },
    {
     "name": "stderr",
     "output_type": "stream",
     "text": [
      "C:\\Users\\syeda\\anaconda3\\Lib\\site-packages\\sklearn\\neural_network\\_multilayer_perceptron.py:691: ConvergenceWarning: Stochastic Optimizer: Maximum iterations (200) reached and the optimization hasn't converged yet.\n",
      "  warnings.warn(\n",
      "C:\\Users\\syeda\\anaconda3\\Lib\\site-packages\\sklearn\\metrics\\_classification.py:1469: UndefinedMetricWarning: Precision and F-score are ill-defined and being set to 0.0 in labels with no predicted samples. Use `zero_division` parameter to control this behavior.\n",
      "  _warn_prf(average, modifier, msg_start, len(result))\n",
      "C:\\Users\\syeda\\anaconda3\\Lib\\site-packages\\sklearn\\metrics\\_classification.py:1469: UndefinedMetricWarning: Precision and F-score are ill-defined and being set to 0.0 in labels with no predicted samples. Use `zero_division` parameter to control this behavior.\n",
      "  _warn_prf(average, modifier, msg_start, len(result))\n",
      "C:\\Users\\syeda\\anaconda3\\Lib\\site-packages\\sklearn\\metrics\\_classification.py:1469: UndefinedMetricWarning: Precision and F-score are ill-defined and being set to 0.0 in labels with no predicted samples. Use `zero_division` parameter to control this behavior.\n",
      "  _warn_prf(average, modifier, msg_start, len(result))\n"
     ]
    }
   ],
   "source": [
    "mlp_model = MLPClassifier()\n",
    "a,z = runtest(mlp_model,X_train_tfidf, X_test_tfidf, y_train, y_test)\n",
    "print(z)"
   ]
  },
  {
   "cell_type": "markdown",
   "metadata": {},
   "source": [
    "The code  serves the purpose of assessing the performance of a machine learning model, specifically an MLP classifier, using K-Fold cross-validation. K-Fold cross-validation is beneficial because it divides the dataset into 'n' subsets (in this case, 10 subsets due to 'n_splits=10') and iteratively uses one of these subsets as the test set while training the model on the remaining data. This process is repeated 10 times (controlled by 'n_splits=10') so that each subset serves as the test set once. The results, in the form of accuracy scores for each fold, are averaged and provide a more robust estimate of the model's performance, reducing the risk of overfitting to a specific train-test split. The 'shuffle=True' parameter adds randomness by shuffling the data before splitting, further ensuring a more representative evaluation. The printed accuracy score, along with its standard deviation, summarizes how well the MLP classifier generalizes to unseen data, offering a more reliable assessment of its effectiveness in the real-world scenario."
   ]
  },
  {
   "cell_type": "code",
   "execution_count": 94,
   "metadata": {},
   "outputs": [
    {
     "name": "stdout",
     "output_type": "stream",
     "text": [
      "Accuracy: 0.784 (0.071)\n"
     ]
    }
   ],
   "source": [
    "cv = KFold(n_splits=10, random_state=5, shuffle=True)\n",
    "scores = cross_val_score(mlp_model, X_test_tfidf, y_pred_mlp, scoring='accuracy', cv=cv, n_jobs=-1)\n",
    "print('Accuracy: %.3f (%.3f)' % (mean(scores), std(scores)))"
   ]
  },
  {
   "cell_type": "markdown",
   "metadata": {},
   "source": [
    "**MODEL 2: MLP Model 2 on DATASET 1, with parameters (hidden_layer_sizes=(64, 32), max_iter=1000, random_state=42)**\n"
   ]
  },
  {
   "cell_type": "code",
   "execution_count": 95,
   "metadata": {},
   "outputs": [],
   "source": [
    "# Assigning the 'data' dataset to the variable 'dataset' for convenience.\n",
    "dataset = data\n",
    "\n",
    "# Splitting the dataset into training and testing sets:\n",
    "# - Features ('X_train' and 'X_test') consist of columns 'Title', 'Description', 'Body', 'Keywords', and 'Link'.\n",
    "# - The target ('y_train' and 'y_test') is represented by the 'Theme' column.\n",
    "# - We allocate 20% of the data for testing, with a fixed random seed (random_state=42) for reproducibility.\n",
    "X_train, X_test, y_train, y_test = train_test_split(dataset[['Title', 'Description', 'Body', 'Keywords', 'Link']], dataset['Theme'], test_size=0.2, random_state=42)\n",
    "\n",
    "# Creating a TF-IDF (Term Frequency-Inverse Document Frequency) vectorizer with a maximum of 1000 features.\n",
    "tfidf_vectorizer = TfidfVectorizer(max_features=1000)\n",
    "\n",
    "# Transforming the 'Body' text data in the training set into TF-IDF vectors using the vectorizer.\n",
    "X_train_tfidf = tfidf_vectorizer.fit_transform(X_train['Body'])\n",
    "\n",
    "# Transforming the 'Body' text data in the testing set into TF-IDF vectors using the same vectorizer.\n",
    "X_test_tfidf = tfidf_vectorizer.transform(X_test['Body'])\n"
   ]
  },
  {
   "cell_type": "markdown",
   "metadata": {},
   "source": [
    "This code initializes an MLP (Multi-Layer Perceptron) classifier named 'mod2' with specific parameters. The choice of these parameters is motivated by a desire to optimize model performance while considering computational efficiency. 'hidden_layer_sizes=(64, 32)' defines a two-layer architecture that balances model complexity and computational resources. 'max_iter=1000' sets the maximum number of training iterations to ensure effective learning, while 'random_state=42' ensures result reproducibility. The code then uses the 'runtest' function to train 'mod2' on TF-IDF transformed training data and evaluate its performance on the testing data. This parameter selection strategy aims to strike a balance between model capacity, training effectiveness, and consistent results, providing a robust assessment of 'mod2's suitability for text classification."
   ]
  },
  {
   "cell_type": "code",
   "execution_count": 96,
   "metadata": {},
   "outputs": [
    {
     "name": "stdout",
     "output_type": "stream",
     "text": [
      "               precision    recall  f1-score   support\n",
      "\n",
      "     business       0.86      0.88      0.87        43\n",
      "entertainment       0.63      0.57      0.60        21\n",
      "       health       0.89      0.94      0.91        33\n",
      "     opinions       0.80      0.57      0.67        28\n",
      "     politics       0.73      0.81      0.77        27\n",
      "        sport       0.82      0.92      0.87        25\n",
      "        style       0.00      0.00      0.00         6\n",
      "       travel       0.00      0.00      0.00         1\n",
      "           us       0.56      0.53      0.54        19\n",
      "      weather       0.95      1.00      0.98        20\n",
      "        world       0.73      0.80      0.76        60\n",
      "\n",
      "     accuracy                           0.78       283\n",
      "    macro avg       0.63      0.64      0.63       283\n",
      " weighted avg       0.76      0.78      0.77       283\n",
      "\n"
     ]
    },
    {
     "name": "stderr",
     "output_type": "stream",
     "text": [
      "C:\\Users\\syeda\\anaconda3\\Lib\\site-packages\\sklearn\\metrics\\_classification.py:1469: UndefinedMetricWarning: Precision and F-score are ill-defined and being set to 0.0 in labels with no predicted samples. Use `zero_division` parameter to control this behavior.\n",
      "  _warn_prf(average, modifier, msg_start, len(result))\n",
      "C:\\Users\\syeda\\anaconda3\\Lib\\site-packages\\sklearn\\metrics\\_classification.py:1469: UndefinedMetricWarning: Precision and F-score are ill-defined and being set to 0.0 in labels with no predicted samples. Use `zero_division` parameter to control this behavior.\n",
      "  _warn_prf(average, modifier, msg_start, len(result))\n",
      "C:\\Users\\syeda\\anaconda3\\Lib\\site-packages\\sklearn\\metrics\\_classification.py:1469: UndefinedMetricWarning: Precision and F-score are ill-defined and being set to 0.0 in labels with no predicted samples. Use `zero_division` parameter to control this behavior.\n",
      "  _warn_prf(average, modifier, msg_start, len(result))\n"
     ]
    }
   ],
   "source": [
    "mod2 = MLPClassifier(hidden_layer_sizes=(64, 32), max_iter=1000, random_state=42)\n",
    "b,z = runtest(mod2,X_train_tfidf, X_test_tfidf, y_train, y_test)\n",
    "print(z)"
   ]
  },
  {
   "cell_type": "markdown",
   "metadata": {},
   "source": [
    "This code employs K-Fold cross-validation to assess the performance of the 'mod2' MLP classifier on a text classification task. The choice of using K-Fold cross-validation is crucial because it allows for a more robust evaluation of the model's generalization capabilities by repeatedly splitting the dataset into training and testing subsets, ensuring that every data point serves as both training and testing data at some point. With 'n_splits=10,' it divides the data into 10 subsets, enhancing reliability. The 'shuffle=True' option introduces randomness by shuffling the data before splitting, reducing the risk of any order-related bias. The 'cross_val_score' function computes accuracy scores for each fold, and the final result, along with its standard deviation, is printed. This approach offers a comprehensive and dependable evaluation of 'mod2's performance, providing insights into how well the model is expected to generalize to unseen data."
   ]
  },
  {
   "cell_type": "code",
   "execution_count": 97,
   "metadata": {},
   "outputs": [
    {
     "name": "stdout",
     "output_type": "stream",
     "text": [
      "Accuracy: 0.767 (0.069)\n"
     ]
    }
   ],
   "source": [
    "cv = KFold(n_splits=10, random_state=5, shuffle=True)\n",
    "scores = cross_val_score(mod2, X_test_tfidf, y_pred_mlp, scoring='accuracy', cv=cv, n_jobs=-1)\n",
    "print('Accuracy: %.3f (%.3f)' % (mean(scores), std(scores)))"
   ]
  },
  {
   "cell_type": "markdown",
   "metadata": {},
   "source": [
    "**MODEL 3: MLP Model 3 on DATASET 1, with parameters: (hidden_layer_sizes=(128, 64), max_iter=1000, random_state=42)**"
   ]
  },
  {
   "cell_type": "code",
   "execution_count": 135,
   "metadata": {},
   "outputs": [],
   "source": [
    "# Assigning the 'data' dataset to the variable 'dataset' for convenience.\n",
    "dataset = data\n",
    "\n",
    "# Splitting the dataset into training and testing sets:\n",
    "# - Features ('X_train' and 'X_test') consist of columns 'Title', 'Description', 'Body', 'Keywords', and 'Link'.\n",
    "# - The target ('y_train' and 'y_test') is represented by the 'Theme' column.\n",
    "# - We allocate 20% of the data for testing, with a fixed random seed (random_state=42) for reproducibility.\n",
    "X_train, X_test, y_train, y_test = train_test_split(dataset[['Title', 'Description', 'Body', 'Keywords', 'Link']], dataset['Theme'], test_size=0.2, random_state=42)\n",
    "\n",
    "# Creating a TF-IDF (Term Frequency-Inverse Document Frequency) vectorizer with a maximum of 1000 features.\n",
    "tfidf_vectorizer = TfidfVectorizer(max_features=1000)\n",
    "\n",
    "# Transforming the 'Body' text data in the training set into TF-IDF vectors using the vectorizer.\n",
    "X_train_tfidf = tfidf_vectorizer.fit_transform(X_train['Body'])\n",
    "\n",
    "# Transforming the 'Body' text data in the testing set into TF-IDF vectors using the same vectorizer.\n",
    "X_test_tfidf = tfidf_vectorizer.transform(X_test['Body'])\n"
   ]
  },
  {
   "cell_type": "markdown",
   "metadata": {},
   "source": [
    "This code continues the machine learning experiment with an MLP classifier, 'mod3,' for text classification. Initially, the architecture was set to '(64, 32)' to balance model complexity and resource efficiency. However, in this iteration, it has been adjusted to '(128, 64)' to explore a deeper neural network with more neurons, potentially capturing more intricate patterns in the data. The 'max_iter=1000' parameter ensures effective learning, and 'random_state=42' ensures result reproducibility. The code utilizes the 'runtest' function to train 'mod3' on TF-IDF transformed training data and evaluate its performance on the testing data. This parameter adjustment reflects an experimentation-driven decision to explore a more complex model architecture, aiming to further enhance 'mod3's effectiveness in text classification and evaluating its impact on model performance."
   ]
  },
  {
   "cell_type": "code",
   "execution_count": 99,
   "metadata": {},
   "outputs": [
    {
     "name": "stdout",
     "output_type": "stream",
     "text": [
      "               precision    recall  f1-score   support\n",
      "\n",
      "     business       0.88      0.84      0.86        43\n",
      "entertainment       0.59      0.62      0.60        21\n",
      "       health       0.89      0.97      0.93        33\n",
      "     opinions       0.85      0.61      0.71        28\n",
      "     politics       0.79      0.85      0.82        27\n",
      "        sport       0.79      0.88      0.83        25\n",
      "        style       1.00      0.17      0.29         6\n",
      "       travel       0.00      0.00      0.00         1\n",
      "           us       0.53      0.53      0.53        19\n",
      "      weather       0.95      1.00      0.98        20\n",
      "        world       0.74      0.82      0.78        60\n",
      "\n",
      "     accuracy                           0.79       283\n",
      "    macro avg       0.73      0.66      0.66       283\n",
      " weighted avg       0.79      0.79      0.78       283\n",
      "\n"
     ]
    },
    {
     "name": "stderr",
     "output_type": "stream",
     "text": [
      "C:\\Users\\syeda\\anaconda3\\Lib\\site-packages\\sklearn\\metrics\\_classification.py:1469: UndefinedMetricWarning: Precision and F-score are ill-defined and being set to 0.0 in labels with no predicted samples. Use `zero_division` parameter to control this behavior.\n",
      "  _warn_prf(average, modifier, msg_start, len(result))\n",
      "C:\\Users\\syeda\\anaconda3\\Lib\\site-packages\\sklearn\\metrics\\_classification.py:1469: UndefinedMetricWarning: Precision and F-score are ill-defined and being set to 0.0 in labels with no predicted samples. Use `zero_division` parameter to control this behavior.\n",
      "  _warn_prf(average, modifier, msg_start, len(result))\n",
      "C:\\Users\\syeda\\anaconda3\\Lib\\site-packages\\sklearn\\metrics\\_classification.py:1469: UndefinedMetricWarning: Precision and F-score are ill-defined and being set to 0.0 in labels with no predicted samples. Use `zero_division` parameter to control this behavior.\n",
      "  _warn_prf(average, modifier, msg_start, len(result))\n"
     ]
    }
   ],
   "source": [
    "mod3 = MLPClassifier(hidden_layer_sizes=(128, 64), max_iter=1000, random_state=42)\n",
    "c,z = runtest(mod3,X_train_tfidf, X_test_tfidf, y_train, y_test)\n",
    "print(z)"
   ]
  },
  {
   "cell_type": "markdown",
   "metadata": {},
   "source": [
    "This code employs K-Fold cross-validation to evaluate the performance of the 'mod3' MLP classifier with an architecture of '(128, 64)' on a text classification task. The choice of K-Fold cross-validation with 'n_splits=10' ensures a robust assessment by repeatedly dividing the data into ten subsets for training and testing, reducing the risk of overfitting to a specific split. The 'shuffle=True' option introduces randomness in data splitting for more reliable results. The 'cross_val_score' function calculates accuracy scores for each fold of the cross-validation process, and the final result, with an accuracy of 0.788, is printed. This accuracy score indicates that 'mod3' correctly predicted approximately 78.8% of the test data's labels, offering a quantitative measure of its performance in text classification."
   ]
  },
  {
   "cell_type": "code",
   "execution_count": 100,
   "metadata": {},
   "outputs": [
    {
     "name": "stdout",
     "output_type": "stream",
     "text": [
      "Accuracy: 0.788 (0.056)\n"
     ]
    }
   ],
   "source": [
    "cv = KFold(n_splits=10, random_state=5, shuffle=True)\n",
    "scores = cross_val_score(mod3, X_test_tfidf, y_pred_mlp, scoring='accuracy', cv=cv, n_jobs=-1)\n",
    "print('Accuracy: %.3f (%.3f)' % (mean(scores), std(scores)))"
   ]
  },
  {
   "cell_type": "markdown",
   "metadata": {},
   "source": [
    "**MODEL 4: Logistic Regression Model on DATASET 1:**"
   ]
  },
  {
   "cell_type": "markdown",
   "metadata": {},
   "source": [
    "\n",
    "This code snippet performs text classification using a Logistic Regression model. First, the 'logistic_regression_model' is initialized, then it's trained on the TF-IDF transformed training data 'X_train_tfidf' and corresponding labels 'y_train.' Following training, it predicts labels for the test data using 'X_test_tfidf' and stores the predictions in 'y_pred_logistic.' The code calculates the accuracy score by comparing the true test labels 'y_test' with the predicted labels and stores it in 'd.' Finally, it generates and prints a comprehensive classification report that includes metrics such as precision, recall, and F1-score. This entire process evaluates the Logistic Regression model's performance on text classification tasks, providing insights into its accuracy and predictive capabilities."
   ]
  },
  {
   "cell_type": "code",
   "execution_count": 129,
   "metadata": {},
   "outputs": [
    {
     "name": "stdout",
     "output_type": "stream",
     "text": [
      "Logistic Regression Classification Report:\n",
      "                precision    recall  f1-score   support\n",
      "\n",
      "     business       0.88      0.86      0.87        43\n",
      "entertainment       0.71      0.57      0.63        21\n",
      "       health       0.76      0.88      0.82        33\n",
      "     opinions       0.62      0.29      0.39        28\n",
      "     politics       0.67      0.74      0.70        27\n",
      "        sport       0.85      0.88      0.86        25\n",
      "        style       0.00      0.00      0.00         6\n",
      "       travel       0.00      0.00      0.00         1\n",
      "           us       1.00      0.11      0.19        19\n",
      "      weather       0.95      1.00      0.98        20\n",
      "        world       0.57      0.90      0.70        60\n",
      "\n",
      "     accuracy                           0.72       283\n",
      "    macro avg       0.64      0.57      0.56       283\n",
      " weighted avg       0.73      0.72      0.69       283\n",
      "\n"
     ]
    },
    {
     "name": "stderr",
     "output_type": "stream",
     "text": [
      "C:\\Users\\syeda\\anaconda3\\Lib\\site-packages\\sklearn\\metrics\\_classification.py:1469: UndefinedMetricWarning: Precision and F-score are ill-defined and being set to 0.0 in labels with no predicted samples. Use `zero_division` parameter to control this behavior.\n",
      "  _warn_prf(average, modifier, msg_start, len(result))\n",
      "C:\\Users\\syeda\\anaconda3\\Lib\\site-packages\\sklearn\\metrics\\_classification.py:1469: UndefinedMetricWarning: Precision and F-score are ill-defined and being set to 0.0 in labels with no predicted samples. Use `zero_division` parameter to control this behavior.\n",
      "  _warn_prf(average, modifier, msg_start, len(result))\n",
      "C:\\Users\\syeda\\anaconda3\\Lib\\site-packages\\sklearn\\metrics\\_classification.py:1469: UndefinedMetricWarning: Precision and F-score are ill-defined and being set to 0.0 in labels with no predicted samples. Use `zero_division` parameter to control this behavior.\n",
      "  _warn_prf(average, modifier, msg_start, len(result))\n"
     ]
    }
   ],
   "source": [
    "logistic_regression_model = LogisticRegression()\n",
    "logistic_regression_model.fit(X_train_tfidf, y_train)\n",
    "d = accuracy_score(y_test, y_pred_logistic)\n",
    "y_pred_logistic = logistic_regression_model.predict(X_test_tfidf)\n",
    "print(\"Logistic Regression Classification Report:\\n\", classification_report(y_test, y_pred_logistic))"
   ]
  },
  {
   "cell_type": "markdown",
   "metadata": {},
   "source": [
    "\n",
    "This code snippet employs K-Fold cross-validation to assess the performance of a Logistic Regression model on a text classification task. By setting 'n_splits=4,' it divides the data into four subsets for training and testing, ensuring a robust evaluation of the model's generalization abilities while reducing the risk of overfitting to specific data splits. The 'shuffle=True' parameter introduces randomness in data splitting for more reliable results. The 'cross_val_score' function calculates accuracy scores for each fold of the cross-validation process, and the final printed accuracy score, along with its standard deviation, provides a quantifiable measure of the Logistic Regression model's performance in text classification. This approach ensures a more comprehensive and dependable assessment of the model's effectiveness on unseen data."
   ]
  },
  {
   "cell_type": "code",
   "execution_count": 102,
   "metadata": {},
   "outputs": [
    {
     "name": "stdout",
     "output_type": "stream",
     "text": [
      "Accuracy: 0.625 (0.037)\n"
     ]
    }
   ],
   "source": [
    "cv = KFold(n_splits=4, random_state=5, shuffle=True)\n",
    "scores = cross_val_score(logistic_regression_model, X_test_tfidf, y_pred_mlp, scoring='accuracy', cv=cv, n_jobs=-1)\n",
    "print('Accuracy: %.3f (%.3f)' % (mean(scores), std(scores)))"
   ]
  },
  {
   "cell_type": "markdown",
   "metadata": {},
   "source": [
    "**We repeat the experiment from models 5-12 with the MLP Models 1-3 and Logistic Regression Model for derived dataset 1 and derived dataset 2**"
   ]
  },
  {
   "cell_type": "markdown",
   "metadata": {},
   "source": [
    "**MODEL 5: MLP Model 1 on DERIVED DATASET 1, with no parameters:**"
   ]
  },
  {
   "cell_type": "code",
   "execution_count": 133,
   "metadata": {},
   "outputs": [],
   "source": [
    "# Splitting the 'derived_dataset1' into training and testing sets:\n",
    "# - Features ('X_train' and 'X_test') consist of a single column 'pos'.\n",
    "# - The target ('y_train' and 'y_test') is represented by the 'Theme' column from the original 'dataset'.\n",
    "# - We allocate 20% of the data for testing, with a fixed random seed (random_state=42) for reproducibility.\n",
    "X_train, X_test, y_train, y_test = train_test_split(derived_dataset1[['pos']], dataset['Theme'], test_size=0.2, random_state=42)\n",
    "\n",
    "# Creating a TF-IDF (Term Frequency-Inverse Document Frequency) vectorizer with a maximum of 1000 features.\n",
    "tfidf_vectorizer = TfidfVectorizer(max_features=1000)\n",
    "\n",
    "# Transforming the 'pos' text data in the training set into TF-IDF vectors using the vectorizer.\n",
    "X_train_tfidf = tfidf_vectorizer.fit_transform(X_train['pos'])\n",
    "\n",
    "# Transforming the 'pos' text data in the testing set into TF-IDF vectors using the same vectorizer.\n",
    "X_test_tfidf = tfidf_vectorizer.transform(X_test['pos'])\n"
   ]
  },
  {
   "cell_type": "code",
   "execution_count": 104,
   "metadata": {},
   "outputs": [
    {
     "name": "stdout",
     "output_type": "stream",
     "text": [
      "               precision    recall  f1-score   support\n",
      "\n",
      "     business       0.62      0.74      0.67        43\n",
      "entertainment       0.71      0.57      0.63        21\n",
      "       health       0.87      0.82      0.84        33\n",
      "     opinions       0.89      0.61      0.72        28\n",
      "     politics       0.59      0.70      0.64        27\n",
      "        sport       0.73      0.76      0.75        25\n",
      "        style       0.00      0.00      0.00         6\n",
      "       travel       0.00      0.00      0.00         1\n",
      "           us       0.69      0.47      0.56        19\n",
      "      weather       0.91      1.00      0.95        20\n",
      "        world       0.61      0.72      0.66        60\n",
      "\n",
      "     accuracy                           0.70       283\n",
      "    macro avg       0.60      0.58      0.58       283\n",
      " weighted avg       0.70      0.70      0.69       283\n",
      "\n"
     ]
    },
    {
     "name": "stderr",
     "output_type": "stream",
     "text": [
      "C:\\Users\\syeda\\anaconda3\\Lib\\site-packages\\sklearn\\metrics\\_classification.py:1469: UndefinedMetricWarning: Precision and F-score are ill-defined and being set to 0.0 in labels with no predicted samples. Use `zero_division` parameter to control this behavior.\n",
      "  _warn_prf(average, modifier, msg_start, len(result))\n",
      "C:\\Users\\syeda\\anaconda3\\Lib\\site-packages\\sklearn\\metrics\\_classification.py:1469: UndefinedMetricWarning: Precision and F-score are ill-defined and being set to 0.0 in labels with no predicted samples. Use `zero_division` parameter to control this behavior.\n",
      "  _warn_prf(average, modifier, msg_start, len(result))\n",
      "C:\\Users\\syeda\\anaconda3\\Lib\\site-packages\\sklearn\\metrics\\_classification.py:1469: UndefinedMetricWarning: Precision and F-score are ill-defined and being set to 0.0 in labels with no predicted samples. Use `zero_division` parameter to control this behavior.\n",
      "  _warn_prf(average, modifier, msg_start, len(result))\n"
     ]
    }
   ],
   "source": [
    "d1mod1 = MLPClassifier()\n",
    "e,z = runtest(d1mod1,X_train_tfidf, X_test_tfidf, y_train, y_test)\n",
    "print(z)"
   ]
  },
  {
   "cell_type": "markdown",
   "metadata": {},
   "source": [
    "**MODEL 6: MLP Model 2 on DERIVED DATASET 1, with parameters: (hidden_layer_sizes=(64, 32), max_iter=1000, random_state=42)**"
   ]
  },
  {
   "cell_type": "code",
   "execution_count": 105,
   "metadata": {},
   "outputs": [
    {
     "name": "stdout",
     "output_type": "stream",
     "text": [
      "               precision    recall  f1-score   support\n",
      "\n",
      "     business       0.59      0.77      0.67        43\n",
      "entertainment       0.67      0.48      0.56        21\n",
      "       health       0.87      0.82      0.84        33\n",
      "     opinions       0.95      0.68      0.79        28\n",
      "     politics       0.58      0.70      0.63        27\n",
      "        sport       0.62      0.72      0.67        25\n",
      "        style       0.00      0.00      0.00         6\n",
      "       travel       0.00      0.00      0.00         1\n",
      "           us       0.67      0.42      0.52        19\n",
      "      weather       0.91      1.00      0.95        20\n",
      "        world       0.66      0.70      0.68        60\n",
      "\n",
      "     accuracy                           0.69       283\n",
      "    macro avg       0.59      0.57      0.57       283\n",
      " weighted avg       0.69      0.69      0.68       283\n",
      "\n"
     ]
    },
    {
     "name": "stderr",
     "output_type": "stream",
     "text": [
      "C:\\Users\\syeda\\anaconda3\\Lib\\site-packages\\sklearn\\metrics\\_classification.py:1469: UndefinedMetricWarning: Precision and F-score are ill-defined and being set to 0.0 in labels with no predicted samples. Use `zero_division` parameter to control this behavior.\n",
      "  _warn_prf(average, modifier, msg_start, len(result))\n",
      "C:\\Users\\syeda\\anaconda3\\Lib\\site-packages\\sklearn\\metrics\\_classification.py:1469: UndefinedMetricWarning: Precision and F-score are ill-defined and being set to 0.0 in labels with no predicted samples. Use `zero_division` parameter to control this behavior.\n",
      "  _warn_prf(average, modifier, msg_start, len(result))\n",
      "C:\\Users\\syeda\\anaconda3\\Lib\\site-packages\\sklearn\\metrics\\_classification.py:1469: UndefinedMetricWarning: Precision and F-score are ill-defined and being set to 0.0 in labels with no predicted samples. Use `zero_division` parameter to control this behavior.\n",
      "  _warn_prf(average, modifier, msg_start, len(result))\n"
     ]
    }
   ],
   "source": [
    "d1mod2 = MLPClassifier(hidden_layer_sizes=(64, 32), max_iter=1000, random_state=42)\n",
    "f,z = runtest(d1mod2,X_train_tfidf, X_test_tfidf, y_train, y_test)\n",
    "print(z)"
   ]
  },
  {
   "cell_type": "markdown",
   "metadata": {},
   "source": [
    "**MODEL 7: MLP Model 3 on DERIVED DATASET 1, with parameters: (hidden_layer_sizes=(128, 64), max_iter=1000, random_state=42)**"
   ]
  },
  {
   "cell_type": "code",
   "execution_count": 106,
   "metadata": {},
   "outputs": [
    {
     "name": "stdout",
     "output_type": "stream",
     "text": [
      "               precision    recall  f1-score   support\n",
      "\n",
      "     business       0.64      0.74      0.69        43\n",
      "entertainment       0.69      0.43      0.53        21\n",
      "       health       0.87      0.82      0.84        33\n",
      "     opinions       0.86      0.64      0.73        28\n",
      "     politics       0.55      0.67      0.60        27\n",
      "        sport       0.65      0.80      0.71        25\n",
      "        style       0.00      0.00      0.00         6\n",
      "       travel       0.00      0.00      0.00         1\n",
      "           us       0.69      0.47      0.56        19\n",
      "      weather       0.91      1.00      0.95        20\n",
      "        world       0.59      0.67      0.62        60\n",
      "\n",
      "     accuracy                           0.68       283\n",
      "    macro avg       0.59      0.57      0.57       283\n",
      " weighted avg       0.68      0.68      0.67       283\n",
      "\n"
     ]
    },
    {
     "name": "stderr",
     "output_type": "stream",
     "text": [
      "C:\\Users\\syeda\\anaconda3\\Lib\\site-packages\\sklearn\\metrics\\_classification.py:1469: UndefinedMetricWarning: Precision and F-score are ill-defined and being set to 0.0 in labels with no predicted samples. Use `zero_division` parameter to control this behavior.\n",
      "  _warn_prf(average, modifier, msg_start, len(result))\n",
      "C:\\Users\\syeda\\anaconda3\\Lib\\site-packages\\sklearn\\metrics\\_classification.py:1469: UndefinedMetricWarning: Precision and F-score are ill-defined and being set to 0.0 in labels with no predicted samples. Use `zero_division` parameter to control this behavior.\n",
      "  _warn_prf(average, modifier, msg_start, len(result))\n",
      "C:\\Users\\syeda\\anaconda3\\Lib\\site-packages\\sklearn\\metrics\\_classification.py:1469: UndefinedMetricWarning: Precision and F-score are ill-defined and being set to 0.0 in labels with no predicted samples. Use `zero_division` parameter to control this behavior.\n",
      "  _warn_prf(average, modifier, msg_start, len(result))\n"
     ]
    }
   ],
   "source": [
    "d1mod3 = MLPClassifier(hidden_layer_sizes=(128, 64), max_iter=1000, random_state=42)\n",
    "g,z = runtest(d1mod3,X_train_tfidf, X_test_tfidf, y_train, y_test)\n",
    "print(z)"
   ]
  },
  {
   "cell_type": "markdown",
   "metadata": {},
   "source": [
    "**MODEL 8: Logistic Regression Model on DERIVED DATASET 1**"
   ]
  },
  {
   "cell_type": "code",
   "execution_count": 107,
   "metadata": {},
   "outputs": [
    {
     "name": "stdout",
     "output_type": "stream",
     "text": [
      "               precision    recall  f1-score   support\n",
      "\n",
      "     business       0.64      0.74      0.69        43\n",
      "entertainment       0.69      0.43      0.53        21\n",
      "       health       0.87      0.82      0.84        33\n",
      "     opinions       0.86      0.64      0.73        28\n",
      "     politics       0.55      0.67      0.60        27\n",
      "        sport       0.65      0.80      0.71        25\n",
      "        style       0.00      0.00      0.00         6\n",
      "       travel       0.00      0.00      0.00         1\n",
      "           us       0.69      0.47      0.56        19\n",
      "      weather       0.91      1.00      0.95        20\n",
      "        world       0.59      0.67      0.62        60\n",
      "\n",
      "     accuracy                           0.68       283\n",
      "    macro avg       0.59      0.57      0.57       283\n",
      " weighted avg       0.68      0.68      0.67       283\n",
      "\n"
     ]
    },
    {
     "name": "stderr",
     "output_type": "stream",
     "text": [
      "C:\\Users\\syeda\\anaconda3\\Lib\\site-packages\\sklearn\\metrics\\_classification.py:1469: UndefinedMetricWarning: Precision and F-score are ill-defined and being set to 0.0 in labels with no predicted samples. Use `zero_division` parameter to control this behavior.\n",
      "  _warn_prf(average, modifier, msg_start, len(result))\n",
      "C:\\Users\\syeda\\anaconda3\\Lib\\site-packages\\sklearn\\metrics\\_classification.py:1469: UndefinedMetricWarning: Precision and F-score are ill-defined and being set to 0.0 in labels with no predicted samples. Use `zero_division` parameter to control this behavior.\n",
      "  _warn_prf(average, modifier, msg_start, len(result))\n",
      "C:\\Users\\syeda\\anaconda3\\Lib\\site-packages\\sklearn\\metrics\\_classification.py:1469: UndefinedMetricWarning: Precision and F-score are ill-defined and being set to 0.0 in labels with no predicted samples. Use `zero_division` parameter to control this behavior.\n",
      "  _warn_prf(average, modifier, msg_start, len(result))\n"
     ]
    }
   ],
   "source": [
    "logistic_regression_model = LogisticRegression()\n",
    "h,z = runtest(mod,X_train_tfidf, X_test_tfidf, y_train, y_test)\n",
    "print(z)"
   ]
  },
  {
   "cell_type": "markdown",
   "metadata": {},
   "source": [
    "**Analysis**: In the evaluation on derived dataset 1, we observed differing accuracy scores among the models. MLP Model 1, which utilized default parameters, achieved the highest accuracy of 0.7. Hypothetically, this might be because the dataset's characteristics align well with the default settings, and additional complexity introduced by customized parameters could have led to overfitting or underfitting. On the other hand, MLP Model 2, with a simpler architecture of (64, 32), and MLP Model 3, employing a more complex architecture of (128, 64), achieved slightly lower accuracies of 0.69 and 0.68, respectively. The hypothesis here is that Model 2 might be slighly underutilizing its capacity, while Model 3's greater complexity may have caused it to overfit the data. The Logistic Regression model performed similarly to MLP Model 3, suggesting that a simpler linear model was effective for this dataset. Ultimately, this highlights the importance of carefully tailored architecture parameters based on dataset characteristics to optimize model performance."
   ]
  },
  {
   "cell_type": "code",
   "execution_count": 108,
   "metadata": {},
   "outputs": [
    {
     "data": {
      "text/html": [
       "<div>\n",
       "<style scoped>\n",
       "    .dataframe tbody tr th:only-of-type {\n",
       "        vertical-align: middle;\n",
       "    }\n",
       "\n",
       "    .dataframe tbody tr th {\n",
       "        vertical-align: top;\n",
       "    }\n",
       "\n",
       "    .dataframe thead th {\n",
       "        text-align: right;\n",
       "    }\n",
       "</style>\n",
       "<table border=\"1\" class=\"dataframe\">\n",
       "  <thead>\n",
       "    <tr style=\"text-align: right;\">\n",
       "      <th></th>\n",
       "      <th>Class</th>\n",
       "      <th>pos-np</th>\n",
       "      <th>named_entities</th>\n",
       "      <th>selected_pos_tags</th>\n",
       "    </tr>\n",
       "  </thead>\n",
       "  <tbody>\n",
       "    <tr>\n",
       "      <th>0</th>\n",
       "      <td>NaN</td>\n",
       "      <td>NaN</td>\n",
       "      <td>[(Pennsylvania, 384), (March, 391), (seven, 39...</td>\n",
       "      <td>[(eastern, 84), (candy, 92), (factory, 92), (e...</td>\n",
       "    </tr>\n",
       "    <tr>\n",
       "      <th>1</th>\n",
       "      <td>NaN</td>\n",
       "      <td>NaN</td>\n",
       "      <td>[(Two, 397), (Morgan, 383), (State, 383), (Uni...</td>\n",
       "      <td>[(shooters, 92), (involved, 100), (attack, 92)...</td>\n",
       "    </tr>\n",
       "    <tr>\n",
       "      <th>2</th>\n",
       "      <td>NaN</td>\n",
       "      <td>NaN</td>\n",
       "      <td>[(Pennsylvania, 384), (Josh, 380), (Kruger, 38...</td>\n",
       "      <td>[(Authorities, 92), (say, 100), (issued, 100),...</td>\n",
       "    </tr>\n",
       "    <tr>\n",
       "      <th>3</th>\n",
       "      <td>NaN</td>\n",
       "      <td>NaN</td>\n",
       "      <td>[(more, 397), (than, 397), (115, 397), (Colora...</td>\n",
       "      <td>[(investigation, 92), (more, 84), (bodies, 92)...</td>\n",
       "    </tr>\n",
       "    <tr>\n",
       "      <th>4</th>\n",
       "      <td>NaN</td>\n",
       "      <td>NaN</td>\n",
       "      <td>[(Bronx, 384), (four, 397), (1, 391), (-, 391)...</td>\n",
       "      <td>[(day, 92), (care, 92), (provider, 92), (husba...</td>\n",
       "    </tr>\n",
       "  </tbody>\n",
       "</table>\n",
       "</div>"
      ],
      "text/plain": [
       "  Class pos-np                                     named_entities  \\\n",
       "0   NaN    NaN  [(Pennsylvania, 384), (March, 391), (seven, 39...   \n",
       "1   NaN    NaN  [(Two, 397), (Morgan, 383), (State, 383), (Uni...   \n",
       "2   NaN    NaN  [(Pennsylvania, 384), (Josh, 380), (Kruger, 38...   \n",
       "3   NaN    NaN  [(more, 397), (than, 397), (115, 397), (Colora...   \n",
       "4   NaN    NaN  [(Bronx, 384), (four, 397), (1, 391), (-, 391)...   \n",
       "\n",
       "                                   selected_pos_tags  \n",
       "0  [(eastern, 84), (candy, 92), (factory, 92), (e...  \n",
       "1  [(shooters, 92), (involved, 100), (attack, 92)...  \n",
       "2  [(Authorities, 92), (say, 100), (issued, 100),...  \n",
       "3  [(investigation, 92), (more, 84), (bodies, 92)...  \n",
       "4  [(day, 92), (care, 92), (provider, 92), (husba...  "
      ]
     },
     "execution_count": 108,
     "metadata": {},
     "output_type": "execute_result"
    }
   ],
   "source": [
    "derived_dataset2.head()"
   ]
  },
  {
   "cell_type": "markdown",
   "metadata": {},
   "source": [
    "**MODEL 9: MLP Model 1 on DERIVED DATASET 2, with no parameters**"
   ]
  },
  {
   "cell_type": "code",
   "execution_count": null,
   "metadata": {},
   "outputs": [],
   "source": [
    "# Splitting the 'derived_dataset2' into training and testing sets:\n",
    "# - Features ('X_train' and 'X_test') consist of columns 'pos-np', 'named_entities', and 'selected_pos_tags'.\n",
    "# - The target ('y_train' and 'y_test') is represented by the 'Theme' column from the original 'dataset'.\n",
    "# - We allocate 20% of the data for testing, with a fixed random seed (random_state=42) for reproducibility.\n",
    "X_train, X_test, y_train, y_test = train_test_split(derived_dataset2[['pos-np', 'named_entities', 'selected_pos_tags']], dataset['Theme'], test_size=0.2, random_state=42)\n",
    "\n",
    "# Creating a TF-IDF (Term Frequency-Inverse Document Frequency) vectorizer with a maximum of 1000 features.\n",
    "tfidf_vectorizer = TfidfVectorizer(max_features=1000)\n",
    "\n",
    "# Transforming the 'pos-np' text data in the training set into TF-IDF vectors using the vectorizer.\n",
    "X_train_tfidf = tfidf_vectorizer.fit_transform(X_train['pos-np'])\n",
    "\n",
    "# Transforming the 'pos-np' text data in the testing set into TF-IDF vectors using the same vectorizer.\n",
    "X_test_tfidf = tfidf_vectorizer.transform(X_test['pos-np'])\n"
   ]
  },
  {
   "cell_type": "code",
   "execution_count": 125,
   "metadata": {},
   "outputs": [
    {
     "name": "stdout",
     "output_type": "stream",
     "text": [
      "               precision    recall  f1-score   support\n",
      "\n",
      "     business       0.88      0.84      0.86        43\n",
      "entertainment       0.59      0.62      0.60        21\n",
      "       health       0.89      0.97      0.93        33\n",
      "     opinions       0.85      0.61      0.71        28\n",
      "     politics       0.79      0.85      0.82        27\n",
      "        sport       0.79      0.88      0.83        25\n",
      "        style       1.00      0.17      0.29         6\n",
      "       travel       0.00      0.00      0.00         1\n",
      "           us       0.53      0.53      0.53        19\n",
      "      weather       0.95      1.00      0.98        20\n",
      "        world       0.74      0.82      0.78        60\n",
      "\n",
      "     accuracy                           0.79       283\n",
      "    macro avg       0.73      0.66      0.66       283\n",
      " weighted avg       0.79      0.79      0.78       283\n",
      "\n"
     ]
    },
    {
     "name": "stderr",
     "output_type": "stream",
     "text": [
      "C:\\Users\\syeda\\anaconda3\\Lib\\site-packages\\sklearn\\metrics\\_classification.py:1469: UndefinedMetricWarning: Precision and F-score are ill-defined and being set to 0.0 in labels with no predicted samples. Use `zero_division` parameter to control this behavior.\n",
      "  _warn_prf(average, modifier, msg_start, len(result))\n",
      "C:\\Users\\syeda\\anaconda3\\Lib\\site-packages\\sklearn\\metrics\\_classification.py:1469: UndefinedMetricWarning: Precision and F-score are ill-defined and being set to 0.0 in labels with no predicted samples. Use `zero_division` parameter to control this behavior.\n",
      "  _warn_prf(average, modifier, msg_start, len(result))\n",
      "C:\\Users\\syeda\\anaconda3\\Lib\\site-packages\\sklearn\\metrics\\_classification.py:1469: UndefinedMetricWarning: Precision and F-score are ill-defined and being set to 0.0 in labels with no predicted samples. Use `zero_division` parameter to control this behavior.\n",
      "  _warn_prf(average, modifier, msg_start, len(result))\n"
     ]
    }
   ],
   "source": [
    "d2mod1 = MLPClassifier()\n",
    "i,z = runtest(d2mod1,X_train_tfidf, X_test_tfidf, y_train, y_test)\n",
    "print(z)"
   ]
  },
  {
   "cell_type": "markdown",
   "metadata": {},
   "source": [
    "**MODEL 10: MLP Model 2 on DERIVED DATASET 2, with parameters: (hidden_layer_sizes=(64, 32), max_iter=2000, random_state=33)**"
   ]
  },
  {
   "cell_type": "code",
   "execution_count": 136,
   "metadata": {},
   "outputs": [
    {
     "name": "stdout",
     "output_type": "stream",
     "text": [
      "               precision    recall  f1-score   support\n",
      "\n",
      "     business       0.88      0.84      0.86        43\n",
      "entertainment       0.67      0.57      0.62        21\n",
      "       health       0.84      0.94      0.89        33\n",
      "     opinions       0.75      0.64      0.69        28\n",
      "     politics       0.81      0.81      0.81        27\n",
      "        sport       0.77      0.92      0.84        25\n",
      "        style       0.00      0.00      0.00         6\n",
      "       travel       0.00      0.00      0.00         1\n",
      "           us       0.58      0.58      0.58        19\n",
      "      weather       1.00      1.00      1.00        20\n",
      "        world       0.74      0.80      0.77        60\n",
      "\n",
      "     accuracy                           0.78       283\n",
      "    macro avg       0.64      0.65      0.64       283\n",
      " weighted avg       0.77      0.78      0.77       283\n",
      "\n"
     ]
    }
   ],
   "source": [
    "d2mod2 = MLPClassifier(hidden_layer_sizes=(64, 32), max_iter=2000, random_state=33)\n",
    "j,z = runtest(d2mod2,X_train_tfidf, X_test_tfidf, y_train, y_test)\n",
    "print(z)"
   ]
  },
  {
   "cell_type": "markdown",
   "metadata": {},
   "source": [
    "**MODEL 11: MLP Model 3 on DERIVED DATASET 2, with parameters: (hidden_layer_sizes=(128, 64), max_iter=2000, random_state=33)**"
   ]
  },
  {
   "cell_type": "code",
   "execution_count": 132,
   "metadata": {},
   "outputs": [
    {
     "name": "stdout",
     "output_type": "stream",
     "text": [
      "               precision    recall  f1-score   support\n",
      "\n",
      "     business       0.82      0.86      0.84        43\n",
      "entertainment       0.67      0.57      0.62        21\n",
      "       health       0.86      0.91      0.88        33\n",
      "     opinions       0.76      0.68      0.72        28\n",
      "     politics       0.88      0.78      0.82        27\n",
      "        sport       0.79      0.92      0.85        25\n",
      "        style       0.00      0.00      0.00         6\n",
      "       travel       0.00      0.00      0.00         1\n",
      "           us       0.56      0.53      0.54        19\n",
      "      weather       0.91      1.00      0.95        20\n",
      "        world       0.72      0.78      0.75        60\n",
      "\n",
      "     accuracy                           0.77       283\n",
      "    macro avg       0.63      0.64      0.63       283\n",
      " weighted avg       0.76      0.77      0.76       283\n",
      "\n"
     ]
    }
   ],
   "source": [
    "d2mod3 = MLPClassifier(hidden_layer_sizes=(128, 64), max_iter=2000, random_state=33)\n",
    "k,z = runtest(d2mod3,X_train_tfidf, X_test_tfidf, y_train, y_test)\n",
    "print(z)"
   ]
  },
  {
   "cell_type": "markdown",
   "metadata": {},
   "source": [
    "**MODEL 12: Logistic Regression Model on DERIVED DATASET 2**"
   ]
  },
  {
   "cell_type": "code",
   "execution_count": 116,
   "metadata": {},
   "outputs": [
    {
     "name": "stdout",
     "output_type": "stream",
     "text": [
      "               precision    recall  f1-score   support\n",
      "\n",
      "     business       0.88      0.84      0.86        43\n",
      "entertainment       0.59      0.62      0.60        21\n",
      "       health       0.89      0.97      0.93        33\n",
      "     opinions       0.85      0.61      0.71        28\n",
      "     politics       0.79      0.85      0.82        27\n",
      "        sport       0.79      0.88      0.83        25\n",
      "        style       1.00      0.17      0.29         6\n",
      "       travel       0.00      0.00      0.00         1\n",
      "           us       0.53      0.53      0.53        19\n",
      "      weather       0.95      1.00      0.98        20\n",
      "        world       0.74      0.82      0.78        60\n",
      "\n",
      "     accuracy                           0.79       283\n",
      "    macro avg       0.73      0.66      0.66       283\n",
      " weighted avg       0.79      0.79      0.78       283\n",
      "\n"
     ]
    },
    {
     "name": "stderr",
     "output_type": "stream",
     "text": [
      "C:\\Users\\syeda\\anaconda3\\Lib\\site-packages\\sklearn\\metrics\\_classification.py:1469: UndefinedMetricWarning: Precision and F-score are ill-defined and being set to 0.0 in labels with no predicted samples. Use `zero_division` parameter to control this behavior.\n",
      "  _warn_prf(average, modifier, msg_start, len(result))\n",
      "C:\\Users\\syeda\\anaconda3\\Lib\\site-packages\\sklearn\\metrics\\_classification.py:1469: UndefinedMetricWarning: Precision and F-score are ill-defined and being set to 0.0 in labels with no predicted samples. Use `zero_division` parameter to control this behavior.\n",
      "  _warn_prf(average, modifier, msg_start, len(result))\n",
      "C:\\Users\\syeda\\anaconda3\\Lib\\site-packages\\sklearn\\metrics\\_classification.py:1469: UndefinedMetricWarning: Precision and F-score are ill-defined and being set to 0.0 in labels with no predicted samples. Use `zero_division` parameter to control this behavior.\n",
      "  _warn_prf(average, modifier, msg_start, len(result))\n"
     ]
    }
   ],
   "source": [
    "logistic_regression_model = LogisticRegression()\n",
    "l,z = runtest(mod,X_train_tfidf, X_test_tfidf, y_train, y_test)\n",
    "print(z)"
   ]
  },
  {
   "cell_type": "markdown",
   "metadata": {},
   "source": [
    "**Analysis** In the evaluation on derived dataset 2, we observed that MLP Model 1, with default parameters, achieved the highest accuracy of 0.79, while MLP Model 2, with a simpler architecture of (64, 32), and MLP Model 3, employing a more complex architecture of (128, 64), achieved slightly lower accuracies of 0.78 and 0.77, respectively. Remarkably, the Logistic Regression model also achieved an accuracy of 0.79, indicating that a simpler linear model performed comparably well on this dataset. Hypothetically, Model 1 may have matched the dataset's characteristics effectively without additional parameter tuning, while Model 2 and Model 3's customizations could have introduced some degree of overfitting or underfitting. The close proximity of accuracy scores among these models suggests that the dataset might not be significantly affected by architectural complexities. This dataset exhibits a consistency in model performance compared to derived dataset 1, emphasizing the influence of dataset-specific characteristics on model outcomes and the potential effectiveness of simpler models when warranted.\n",
    "\n",
    "\n",
    "\n",
    "\n",
    "\n",
    "\n"
   ]
  },
  {
   "cell_type": "markdown",
   "metadata": {},
   "source": [
    "**GRAPHICAL ANALYSIS:**"
   ]
  },
  {
   "cell_type": "code",
   "execution_count": 137,
   "metadata": {},
   "outputs": [
    {
     "data": {
      "image/png": "[encoded data removed]",
      "text/plain": [
       "<Figure size 1000x500 with 1 Axes>"
      ]
     },
     "metadata": {},
     "output_type": "display_data"
    }
   ],
   "source": [
    "labels = ['D1M1', 'D1M2', 'D1M3', 'D1L1', 'DD1M1', 'DD1M2','DD1M3','DD1L1','DD2M1','DD2M2','DD2M3','DD2L1']\n",
    "values = [a, b, c, d, e, f,g,h,i,j,k,l]\n",
    "\n",
    "for iz in range(len(values)):\n",
    "    values[iz] = round(values[iz], 3)\n",
    "# Create the bar graph\n",
    "plt.figure(figsize=(10, 5))  # Adjust the width and height as needed\n",
    "\n",
    "# Create a bar graph with the specified bar width\n",
    "plt.bar(labels, values)\n",
    "for iss, value in enumerate(values):\n",
    "    plt.text(iss, value, str(value), ha='center', va='bottom')\n",
    "# Add a title and labels\n",
    "plt.title('Bar Graph of Twelve Models Cases')\n",
    "plt.xlabel('Result lists')\n",
    "plt.ylabel('Accuracy')\n",
    "\n",
    "# Display the graph\n",
    "plt.show()"
   ]
  },
  {
   "cell_type": "markdown",
   "metadata": {},
   "source": [
    "**Analysis:** When examining the performance across different datasets, it's evident that the initial full dataset yields the highest accuracy results, reaching up to 0.792. However, in the derived dataset 1, which involves extracting only nouns and limiting the dataset for testing, we observe a slight dip in accuracy. This decline may be attributed to the reduction in data and the specific focus on nouns, which can result in a loss of context. In contrast, derived dataset 2, which includes three entities for comparison, exhibits improved accuracy. Interestingly, there is a noteworthy consistency between the Linear Regression model and MLP models across these datasets, suggesting that the simpler linear model can perform on par with more complex neural networks"
   ]
  },
  {
   "cell_type": "markdown",
   "metadata": {},
   "source": [
    "**References:** \n",
    "https://carpentries-incubator.github.io/machine-learning-novice-sklearn/06-neural-networks/index.html\n",
    "                                                         \n",
    "https://austingwalters.com/classify-sentences-via-a-multilayer-perceptron-mlp/                                                                                                     \n",
    "https://php-ml.readthedocs.io/en/0.5.0/machine-learning/neural-network/multilayer-perceptron-classifier/                                                 \n",
    "https://analyticsindiamag.com/a-beginners-guide-to-scikit-learns-mlpclassifier/\n"
   ]
  },
  {
   "cell_type": "code",
   "execution_count": null,
   "metadata": {},
   "outputs": [],
   "source": []
  },
  {
   "cell_type": "code",
   "execution_count": null,
   "metadata": {},
   "outputs": [],
   "source": []
  }
 ],
 "metadata": {
  "colab": {
   "provenance": []
  },
  "kernelspec": {
   "display_name": "Python 3 (ipykernel)",
   "language": "python",
   "name": "python3"
  },
  "language_info": {
   "codemirror_mode": {
    "name": "ipython",
    "version": 3
   },
   "file_extension": ".py",
   "mimetype": "text/x-python",
   "name": "python",
   "nbconvert_exporter": "python",
   "pygments_lexer": "ipython3",
   "version": "3.11.5"
  }
 },
 "nbformat": 4,
 "nbformat_minor": 1
}
